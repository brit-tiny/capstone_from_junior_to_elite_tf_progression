{
 "cells": [
  {
   "cell_type": "code",
   "execution_count": 16,
   "id": "84a6bd6d",
   "metadata": {},
   "outputs": [],
   "source": [
    "# World Athletics U18 Women's High Jump"
   ]
  },
  {
   "cell_type": "code",
   "execution_count": 8,
   "id": "6974c040",
   "metadata": {},
   "outputs": [],
   "source": [
    "import requests\n",
    "import pandas as pd\n",
    "import time\n",
    "from bs4 import BeautifulSoup"
   ]
  },
  {
   "cell_type": "code",
   "execution_count": 9,
   "id": "20aca340",
   "metadata": {},
   "outputs": [
    {
     "name": "stdout",
     "output_type": "stream",
     "text": [
      "Requirement already satisfied: lxml in c:\\users\\britt\\appdata\\local\\programs\\python\\python313\\lib\\site-packages (6.0.2)\n",
      "lxml successfully installed\n"
     ]
    },
    {
     "name": "stderr",
     "output_type": "stream",
     "text": [
      "\n",
      "[notice] A new release of pip is available: 25.1.1 -> 25.2\n",
      "[notice] To update, run: python.exe -m pip install --upgrade pip\n"
     ]
    }
   ],
   "source": [
    "!pip install lxml\n",
    "import lxml\n",
    "print((\"lxml successfully installed\"))"
   ]
  },
  {
   "cell_type": "code",
   "execution_count": 10,
   "id": "873d2a46",
   "metadata": {},
   "outputs": [],
   "source": [
    "def fetch_toplist_page(page_num):\n",
    "    url = (\n",
    "        \"https://worldathletics.org/records/all-time-toplists/jumps/high-jump/all/women/u20\"\n",
    "        \"?regionType=world\"\n",
    "        \"&page=1&bestResultsOnly=true\"\n",
    "        \"&firstDay=1899-12-31\"\n",
    "        \"&lastDay=2025-10-21\"\n",
    "        \"&maxResultsByCountry=all\"\n",
    "        \"&eventId=10229526\"\n",
    "        \"&ageCategory=u20\"\n",
    "        f\"&page={page_num}\"\n",
    "    )\n",
    "    resp = requests.get(url)\n",
    "    resp.raise_for_status()\n",
    "    return resp.text"
   ]
  },
  {
   "cell_type": "code",
   "execution_count": 11,
   "id": "c3e43bc2",
   "metadata": {},
   "outputs": [],
   "source": [
    "def parse_table_from_html(html):\n",
    "    dfs = pd.read_html(html)\n",
    "    for df in dfs:\n",
    "        cols = set(df.columns)\n",
    "        expected = {\"Rank\", \"Mark\", \"WIND\", \"Competitor\", \"DOB\", \"Country\", \"Pos\", \"Venue\", \"Date\", \"Results Score\"}\n",
    "        if expected.intersection(cols):\n",
    "            return df\n",
    "        return max(dfs, key=lambda d: d.shape[0])"
   ]
  },
  {
   "cell_type": "code",
   "execution_count": 12,
   "id": "04d85e63",
   "metadata": {},
   "outputs": [],
   "source": [
    "def scrape_all_pages(max_pages=40, delay=1.0):\n",
    "    all_dfs = []\n",
    "    for page in range(1, max_pages + 1):\n",
    "        print(f\"Fetching page {page}...\")\n",
    "        html = fetch_toplist_page(page)\n",
    "        df = parse_table_from_html(html)\n",
    "        if df is None or df.shape[0] == 0:\n",
    "            print(\"No more data or empty table on this page. Stopping.\")\n",
    "            break\n",
    "        all_dfs.append(df)\n",
    "        time.sleep(delay)\n",
    "    combined = pd.concat(all_dfs, ignore_index=True)\n",
    "    return combined"
   ]
  },
  {
   "cell_type": "code",
   "execution_count": 14,
   "id": "3de01d88",
   "metadata": {},
   "outputs": [
    {
     "name": "stdout",
     "output_type": "stream",
     "text": [
      "Fetching page 1...\n"
     ]
    },
    {
     "name": "stderr",
     "output_type": "stream",
     "text": [
      "C:\\Users\\Britt\\AppData\\Local\\Temp\\ipykernel_15240\\3526371045.py:2: FutureWarning: Passing literal html to 'read_html' is deprecated and will be removed in a future version. To read from a literal string, wrap it in a 'StringIO' object.\n",
      "  dfs = pd.read_html(html)\n"
     ]
    },
    {
     "name": "stdout",
     "output_type": "stream",
     "text": [
      "Fetching page 2...\n"
     ]
    },
    {
     "name": "stderr",
     "output_type": "stream",
     "text": [
      "C:\\Users\\Britt\\AppData\\Local\\Temp\\ipykernel_15240\\3526371045.py:2: FutureWarning: Passing literal html to 'read_html' is deprecated and will be removed in a future version. To read from a literal string, wrap it in a 'StringIO' object.\n",
      "  dfs = pd.read_html(html)\n"
     ]
    },
    {
     "name": "stdout",
     "output_type": "stream",
     "text": [
      "Fetching page 3...\n"
     ]
    },
    {
     "name": "stderr",
     "output_type": "stream",
     "text": [
      "C:\\Users\\Britt\\AppData\\Local\\Temp\\ipykernel_15240\\3526371045.py:2: FutureWarning: Passing literal html to 'read_html' is deprecated and will be removed in a future version. To read from a literal string, wrap it in a 'StringIO' object.\n",
      "  dfs = pd.read_html(html)\n"
     ]
    },
    {
     "name": "stdout",
     "output_type": "stream",
     "text": [
      "Scraped rows: 300\n",
      "Saved CSV.\n"
     ]
    }
   ],
   "source": [
    "def main():\n",
    "    df = scrape_all_pages(max_pages=3, delay=1.0)\n",
    "    print(\"Scraped rows:\", len(df))\n",
    "    df.to_csv(\"women_u18_high_jump.csv\", index=False)\n",
    "    print(\"Saved CSV.\")\n",
    "\n",
    "if __name__ == \"__main__\":\n",
    "    main()"
   ]
  }
 ],
 "metadata": {
  "kernelspec": {
   "display_name": ".venv",
   "language": "python",
   "name": ".venv"
  },
  "language_info": {
   "codemirror_mode": {
    "name": "ipython",
    "version": 3
   },
   "file_extension": ".py",
   "mimetype": "text/x-python",
   "name": "python",
   "nbconvert_exporter": "python",
   "pygments_lexer": "ipython3",
   "version": "3.13.4"
  }
 },
 "nbformat": 4,
 "nbformat_minor": 5
}
