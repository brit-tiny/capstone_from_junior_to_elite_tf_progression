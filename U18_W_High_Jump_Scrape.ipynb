{
 "cells": [
  {
   "cell_type": "code",
   "execution_count": 2,
   "id": "c72e65b4",
   "metadata": {},
   "outputs": [],
   "source": [
    "import requests\n",
    "import pandas as pd\n",
    "import time"
   ]
  },
  {
   "cell_type": "code",
   "execution_count": null,
   "id": "33a8cfc6",
   "metadata": {},
   "outputs": [],
   "source": [
    "def fetch_toplist_page(page_num):\n",
    "    url = (\n",
    "        \"https://worldathletics.org/records/all-time-toplists/jumps/high-jump/all/women/u18\"\n",
    "        \"?regionType=world\"\n",
    "        \"&bestResultsOnly=false\"\n",
    "        \"&firstDay=1899-12-31\"\n",
    "        \"&lastDay=2025-10-19\"\n",
    "        \"&maxResultsByCountry=all\"\n",
    "        \"&eventId=10229526\"\n",
    "        \"&ageCategory=u18\"\n",
    "        f\"&page={page_num}\"\n",
    "    )\n",
    "    resp = requests.get(url)\n",
    "    resp.raise_for_status()\n",
    "    return resp.text"
   ]
  },
  {
   "cell_type": "code",
   "execution_count": null,
   "id": "fad3533d",
   "metadata": {},
   "outputs": [],
   "source": [
    "def parse_table_from_html(html):\n",
    "    dfs = pd.read_html(html)\n",
    "    for df in dfs:\n",
    "        cols = set(df.columns)\n",
    "        expected = {\"Rank\", \"Mark\", \"WIND\", \"Competitor\", \"DOB\", \"Country\", \"Pos\", \"Venue\", \"Date\", \"Results Score\"}\n",
    "        if expected.intersection(cols):\n",
    "            return df\n",
    "        return max(dfs, key=lambda d: d.shape[0])"
   ]
  },
  {
   "cell_type": "code",
   "execution_count": 6,
   "id": "6ef85512",
   "metadata": {},
   "outputs": [],
   "source": [
    "def scrape_all_pages(max_pages=40, delay=1.0):\n",
    "    all_dfs = []\n",
    "    for page in range(1, max_pages + 1):\n",
    "        print(f\"Fetching page {page}...\")\n",
    "        html = fetch_toplist_page(page)\n",
    "        df = parse_table_from_html(html)\n",
    "        if df is None or df.shape[0] == 0:\n",
    "            print(\"No more data or empty table on this page. Stopping.\")\n",
    "            break\n",
    "        all_dfs.append(df)\n",
    "        time.sleep(delay)\n",
    "    combined = pd.concat(all_dfs, ignore_index=True)\n",
    "    return combined"
   ]
  },
  {
   "cell_type": "code",
   "execution_count": 8,
   "id": "ea67da7f",
   "metadata": {},
   "outputs": [
    {
     "name": "stdout",
     "output_type": "stream",
     "text": [
      "Fetching page 1...\n"
     ]
    },
    {
     "ename": "NameError",
     "evalue": "name 'request' is not defined",
     "output_type": "error",
     "traceback": [
      "\u001b[31m---------------------------------------------------------------------------\u001b[39m",
      "\u001b[31mNameError\u001b[39m                                 Traceback (most recent call last)",
      "\u001b[36mCell\u001b[39m\u001b[36m \u001b[39m\u001b[32mIn[8]\u001b[39m\u001b[32m, line 8\u001b[39m\n\u001b[32m      5\u001b[39m     \u001b[38;5;28mprint\u001b[39m(\u001b[33m\"\u001b[39m\u001b[33mSaved CSV.\u001b[39m\u001b[33m\"\u001b[39m)\n\u001b[32m      7\u001b[39m \u001b[38;5;28;01mif\u001b[39;00m \u001b[34m__name__\u001b[39m == \u001b[33m\"\u001b[39m\u001b[33m__main__\u001b[39m\u001b[33m\"\u001b[39m:\n\u001b[32m----> \u001b[39m\u001b[32m8\u001b[39m     \u001b[43mmain\u001b[49m\u001b[43m(\u001b[49m\u001b[43m)\u001b[49m\n",
      "\u001b[36mCell\u001b[39m\u001b[36m \u001b[39m\u001b[32mIn[8]\u001b[39m\u001b[32m, line 2\u001b[39m, in \u001b[36mmain\u001b[39m\u001b[34m()\u001b[39m\n\u001b[32m      1\u001b[39m \u001b[38;5;28;01mdef\u001b[39;00m\u001b[38;5;250m \u001b[39m\u001b[34mmain\u001b[39m():\n\u001b[32m----> \u001b[39m\u001b[32m2\u001b[39m     df = \u001b[43mscrape_all_pages\u001b[49m\u001b[43m(\u001b[49m\u001b[43mmax_pages\u001b[49m\u001b[43m=\u001b[49m\u001b[32;43m10\u001b[39;49m\u001b[43m,\u001b[49m\u001b[43m \u001b[49m\u001b[43mdelay\u001b[49m\u001b[43m=\u001b[49m\u001b[32;43m1.0\u001b[39;49m\u001b[43m)\u001b[49m\n\u001b[32m      3\u001b[39m     \u001b[38;5;28mprint\u001b[39m(\u001b[33m\"\u001b[39m\u001b[33mScraped rows:\u001b[39m\u001b[33m\"\u001b[39m, \u001b[38;5;28mlen\u001b[39m(df))\n\u001b[32m      4\u001b[39m     df.to_csv(\u001b[33m\"\u001b[39m\u001b[33mwomen_u18_high_jump.csv\u001b[39m\u001b[33m\"\u001b[39m, index=\u001b[38;5;28;01mFalse\u001b[39;00m)\n",
      "\u001b[36mCell\u001b[39m\u001b[36m \u001b[39m\u001b[32mIn[6]\u001b[39m\u001b[32m, line 5\u001b[39m, in \u001b[36mscrape_all_pages\u001b[39m\u001b[34m(max_pages, delay)\u001b[39m\n\u001b[32m      3\u001b[39m \u001b[38;5;28;01mfor\u001b[39;00m page \u001b[38;5;129;01min\u001b[39;00m \u001b[38;5;28mrange\u001b[39m(\u001b[32m1\u001b[39m, max_pages + \u001b[32m1\u001b[39m):\n\u001b[32m      4\u001b[39m     \u001b[38;5;28mprint\u001b[39m(\u001b[33mf\u001b[39m\u001b[33m\"\u001b[39m\u001b[33mFetching page \u001b[39m\u001b[38;5;132;01m{\u001b[39;00mpage\u001b[38;5;132;01m}\u001b[39;00m\u001b[33m...\u001b[39m\u001b[33m\"\u001b[39m)\n\u001b[32m----> \u001b[39m\u001b[32m5\u001b[39m     html = \u001b[43mfetch_toplist_page\u001b[49m\u001b[43m(\u001b[49m\u001b[43mpage\u001b[49m\u001b[43m)\u001b[49m\n\u001b[32m      6\u001b[39m     df = parse_table_from_html(html)\n\u001b[32m      7\u001b[39m     \u001b[38;5;28;01mif\u001b[39;00m df \u001b[38;5;129;01mis\u001b[39;00m \u001b[38;5;28;01mNone\u001b[39;00m \u001b[38;5;129;01mor\u001b[39;00m df.shape[\u001b[32m0\u001b[39m] == \u001b[32m0\u001b[39m:\n",
      "\u001b[36mCell\u001b[39m\u001b[36m \u001b[39m\u001b[32mIn[4]\u001b[39m\u001b[32m, line 13\u001b[39m, in \u001b[36mfetch_toplist_page\u001b[39m\u001b[34m(page_num)\u001b[39m\n\u001b[32m      1\u001b[39m \u001b[38;5;28;01mdef\u001b[39;00m\u001b[38;5;250m \u001b[39m\u001b[34mfetch_toplist_page\u001b[39m(page_num):\n\u001b[32m      2\u001b[39m     url = (\n\u001b[32m      3\u001b[39m         \u001b[33m\"\u001b[39m\u001b[33mhttps://worldathletics.org/records/all-time-toplists/jumps/high-jump/all/women/u18\u001b[39m\u001b[33m\"\u001b[39m\n\u001b[32m      4\u001b[39m         \u001b[33m\"\u001b[39m\u001b[33m?regionType=world\u001b[39m\u001b[33m\"\u001b[39m\n\u001b[32m   (...)\u001b[39m\u001b[32m     11\u001b[39m         \u001b[33mf\u001b[39m\u001b[33m\"\u001b[39m\u001b[33m&page=\u001b[39m\u001b[38;5;132;01m{\u001b[39;00mpage_num\u001b[38;5;132;01m}\u001b[39;00m\u001b[33m\"\u001b[39m\n\u001b[32m     12\u001b[39m     )\n\u001b[32m---> \u001b[39m\u001b[32m13\u001b[39m     resp = \u001b[43mrequest\u001b[49m.get(url)\n\u001b[32m     14\u001b[39m     resp.raise_for_status()\n\u001b[32m     15\u001b[39m     \u001b[38;5;28;01mreturn\u001b[39;00m resp.text\n",
      "\u001b[31mNameError\u001b[39m: name 'request' is not defined"
     ]
    }
   ],
   "source": [
    "def main():\n",
    "    df = scrape_all_pages(max_pages=10, delay=1.0)\n",
    "    print(\"Scraped rows:\", len(df))\n",
    "    df.to_csv(\"women_u18_high_jump.csv\", index=False)\n",
    "    print(\"Saved CSV.\")\n",
    "\n",
    "if __name__ == \"__main__\":\n",
    "    main()"
   ]
  }
 ],
 "metadata": {
  "kernelspec": {
   "display_name": ".venv",
   "language": "python",
   "name": ".venv"
  },
  "language_info": {
   "codemirror_mode": {
    "name": "ipython",
    "version": 3
   },
   "file_extension": ".py",
   "mimetype": "text/x-python",
   "name": "python",
   "nbconvert_exporter": "python",
   "pygments_lexer": "ipython3",
   "version": "3.13.4"
  }
 },
 "nbformat": 4,
 "nbformat_minor": 5
}
