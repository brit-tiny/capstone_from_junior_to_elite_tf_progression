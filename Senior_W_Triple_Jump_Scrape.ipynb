{
 "cells": [
  {
   "cell_type": "markdown",
   "id": "5b6e79ba",
   "metadata": {},
   "source": [
    "# World Athletics Senior Women's Triple Jump\n",
    "<img src=\"https://trackandfieldnews.com/wp-content/uploads/2023/12/yulimar-rojas-01-24.jpg\" alt=\"U20 Chen Ting Getty Images\" width=\"250\" height=\"166.75\">"
   ]
  },
  {
   "cell_type": "code",
   "execution_count": 1,
   "id": "98711efa",
   "metadata": {},
   "outputs": [],
   "source": [
    "import requests\n",
    "import pandas as pd\n",
    "import time\n",
    "from bs4 import BeautifulSoup"
   ]
  },
  {
   "cell_type": "code",
   "execution_count": null,
   "id": "a568beb0",
   "metadata": {},
   "outputs": [],
   "source": [
    "# intall lxml dependancy \n",
    "!pip install lxml\n",
    "import lxml\n",
    "print((\"lxml successfully installed\"))"
   ]
  },
  {
   "cell_type": "code",
   "execution_count": null,
   "id": "e1330c00",
   "metadata": {},
   "outputs": [],
   "source": [
    "def fetch_toplist_page(page_num):\n",
    "    url = (\n",
    "        \"https://worldathletics.org/records/all-time-toplists/jumps/triple-jump/all/women/senior\"\n",
    "        \"?regionType=world\"\n",
    "        \"&windReading=all&page=1\"\n",
    "        \"&bestResultsOnly=false\"\n",
    "        \"&firstDay=1899-12-31\"\n",
    "        \"&lastDay=2025-10-21\"\n",
    "        \"&maxResultsByCountry=all\"\n",
    "        \"&eventId=10229529\"\n",
    "        \"&ageCategory=senior\"\n",
    "        f\"&page={page_num}\"\n",
    "    )\n",
    "    resp = requests.get(url)\n",
    "    resp.raise_for_status()\n",
    "    return resp.text"
   ]
  },
  {
   "cell_type": "code",
   "execution_count": null,
   "id": "22be3e21",
   "metadata": {},
   "outputs": [],
   "source": [
    "def parse_table_from_html(html):\n",
    "    dfs = pd.read_html(html) # use pandas to extract tables\n",
    "    for df in dfs:\n",
    "        cols = set(df.columns)\n",
    "        expected = {\"Rank\", \"Mark\", \"WIND\", \"Competitor\", \"DOB\", \"Country\", \"Pos\", \"Venue\", \"Date\", \"Results Score\"}\n",
    "        if expected.intersection(cols):\n",
    "            return df\n",
    "        return max(dfs, key=lambda d: d.shape[0])"
   ]
  },
  {
   "cell_type": "code",
   "execution_count": null,
   "id": "d47cdc14",
   "metadata": {},
   "outputs": [],
   "source": [
    "def scrape_all_pages(max_pages=80, delay=1.0):\n",
    "    all_dfs = []\n",
    "    for page in range(1, max_pages + 1):\n",
    "        print(f\"Fetching page {page}...\")\n",
    "        html = fetch_toplist_page(page)\n",
    "        df = parse_table_from_html(html)\n",
    "        if df is None or df.shape[0] == 0:\n",
    "            print(\"No more data or empty table on this page. Stopping.\")\n",
    "            break\n",
    "        all_dfs.append(df)\n",
    "        time.sleep(delay)\n",
    "    combined = pd.concat(all_dfs, ignore_index=True)\n",
    "    return combined"
   ]
  },
  {
   "cell_type": "code",
   "execution_count": null,
   "id": "8f905cf7",
   "metadata": {},
   "outputs": [],
   "source": [
    "def main():\n",
    "    df = scrape_all_pages(max_pages=80, delay=1.0)\n",
    "    print(\"Scraped rows:\", len(df))\n",
    "    df.to_csv(\"women_senior_triple_jump.csv\", index=False)\n",
    "    print(\"Saved CSV.\")\n",
    "\n",
    "if __name__ == \"__main__\":\n",
    "    main()"
   ]
  }
 ],
 "metadata": {
  "kernelspec": {
   "display_name": ".venv",
   "language": "python",
   "name": ".venv"
  },
  "language_info": {
   "codemirror_mode": {
    "name": "ipython",
    "version": 3
   },
   "file_extension": ".py",
   "mimetype": "text/x-python",
   "name": "python",
   "nbconvert_exporter": "python",
   "pygments_lexer": "ipython3",
   "version": "3.13.4"
  }
 },
 "nbformat": 4,
 "nbformat_minor": 5
}
